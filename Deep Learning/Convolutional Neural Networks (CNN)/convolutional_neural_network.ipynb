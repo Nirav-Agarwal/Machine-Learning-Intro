{
  "cells": [
    {
      "cell_type": "markdown",
      "metadata": {
        "id": "EMefrVPCg-60",
        "colab_type": "text"
      },
      "source": [
        "### Importing the libraries"
      ]
    },
    {
      "cell_type": "code",
      "metadata": {
        "id": "sCV30xyVhFbE",
        "colab_type": "code",
        "colab": {}
      },
      "source": [
        "import tensorflow as tf\n",
        "from keras.preprocessing.image import ImageDataGenerator"
      ],
      "execution_count": 1,
      "outputs": [
        {
          "output_type": "stream",
          "name": "stderr",
          "text": "Using TensorFlow backend.\n"
        }
      ]
    },
    {
      "cell_type": "code",
      "metadata": {
        "id": "FIleuCAjoFD8",
        "colab_type": "code",
        "colab": {}
      },
      "source": [
        "tf.__version__"
      ],
      "execution_count": 2,
      "outputs": [
        {
          "output_type": "execute_result",
          "data": {
            "text/plain": "'2.2.0'"
          },
          "metadata": {},
          "execution_count": 2
        }
      ]
    },
    {
      "cell_type": "markdown",
      "metadata": {
        "id": "oxQxCBWyoGPE",
        "colab_type": "text"
      },
      "source": [
        "## Part 1 - Data Preprocessing"
      ]
    },
    {
      "cell_type": "markdown",
      "metadata": {
        "id": "MvE-heJNo3GG",
        "colab_type": "text"
      },
      "source": [
        "### Preprocessing the Training set"
      ]
    },
    {
      "cell_type": "code",
      "metadata": {
        "id": "0koUcJMJpEBD",
        "colab_type": "code",
        "colab": {}
      },
      "source": [
        "train_datagen = ImageDataGenerator(rescale = 1./255,\n",
        "                                   shear_range = 0.2,\n",
        "                                   zoom_range = 0.2,\n",
        "                                   horizontal_flip = True)\n",
        "training_set = train_datagen.flow_from_directory('dataset/training_set',\n",
        "                                                 target_size = (64, 64),\n",
        "                                                 batch_size = 32,\n",
        "                                                 class_mode = 'binary')"
      ],
      "execution_count": 3,
      "outputs": [
        {
          "output_type": "stream",
          "name": "stdout",
          "text": "Found 8000 images belonging to 2 classes.\n"
        }
      ]
    },
    {
      "cell_type": "markdown",
      "metadata": {
        "id": "mrCMmGw9pHys",
        "colab_type": "text"
      },
      "source": [
        "### Preprocessing the Test set"
      ]
    },
    {
      "cell_type": "code",
      "metadata": {
        "id": "SH4WzfOhpKc3",
        "colab_type": "code",
        "colab": {}
      },
      "source": [
        "test_datagen = ImageDataGenerator(rescale = 1./255)\n",
        "test_set = test_datagen.flow_from_directory('dataset/test_set',\n",
        "                                            target_size = (64, 64),\n",
        "                                            batch_size = 32,\n",
        "                                            class_mode = 'binary')"
      ],
      "execution_count": 4,
      "outputs": [
        {
          "output_type": "stream",
          "name": "stdout",
          "text": "Found 2000 images belonging to 2 classes.\n"
        }
      ]
    },
    {
      "cell_type": "markdown",
      "metadata": {
        "id": "af8O4l90gk7B",
        "colab_type": "text"
      },
      "source": [
        "## Part 2 - Building the CNN"
      ]
    },
    {
      "cell_type": "markdown",
      "metadata": {
        "id": "ces1gXY2lmoX",
        "colab_type": "text"
      },
      "source": [
        "### Initialising the CNN"
      ]
    },
    {
      "cell_type": "code",
      "metadata": {
        "id": "SAUt4UMPlhLS",
        "colab_type": "code",
        "colab": {}
      },
      "source": [
        "cnn = tf.keras.models.Sequential()"
      ],
      "execution_count": 5,
      "outputs": []
    },
    {
      "cell_type": "markdown",
      "metadata": {
        "id": "u5YJj_XMl5LF",
        "colab_type": "text"
      },
      "source": [
        "### Step 1 - Convolution"
      ]
    },
    {
      "cell_type": "code",
      "metadata": {
        "id": "XPzPrMckl-hV",
        "colab_type": "code",
        "colab": {}
      },
      "source": [
        "cnn.add(tf.keras.layers.Conv2D(filters=32, kernel_size=3, activation='relu', input_shape=[64, 64, 3]))"
      ],
      "execution_count": 6,
      "outputs": []
    },
    {
      "cell_type": "markdown",
      "metadata": {
        "id": "tf87FpvxmNOJ",
        "colab_type": "text"
      },
      "source": [
        "### Step 2 - Pooling"
      ]
    },
    {
      "cell_type": "code",
      "metadata": {
        "id": "ncpqPl69mOac",
        "colab_type": "code",
        "colab": {}
      },
      "source": [
        "cnn.add(tf.keras.layers.MaxPool2D(pool_size=2, strides=2))"
      ],
      "execution_count": 7,
      "outputs": []
    },
    {
      "cell_type": "markdown",
      "metadata": {
        "id": "xaTOgD8rm4mU",
        "colab_type": "text"
      },
      "source": [
        "### Adding a second convolutional layer"
      ]
    },
    {
      "cell_type": "code",
      "metadata": {
        "id": "i_-FZjn_m8gk",
        "colab_type": "code",
        "colab": {}
      },
      "source": [
        "cnn.add(tf.keras.layers.Conv2D(filters=32, kernel_size=3, activation='relu'))\n",
        "cnn.add(tf.keras.layers.MaxPool2D(pool_size=2, strides=2))"
      ],
      "execution_count": 8,
      "outputs": []
    },
    {
      "cell_type": "markdown",
      "metadata": {
        "id": "tmiEuvTunKfk",
        "colab_type": "text"
      },
      "source": [
        "### Step 3 - Flattening"
      ]
    },
    {
      "cell_type": "code",
      "metadata": {
        "id": "6AZeOGCvnNZn",
        "colab_type": "code",
        "colab": {}
      },
      "source": [
        "cnn.add(tf.keras.layers.Flatten())"
      ],
      "execution_count": 9,
      "outputs": []
    },
    {
      "cell_type": "markdown",
      "metadata": {
        "id": "dAoSECOm203v",
        "colab_type": "text"
      },
      "source": [
        "### Step 4 - Full Connection"
      ]
    },
    {
      "cell_type": "code",
      "metadata": {
        "id": "8GtmUlLd26Nq",
        "colab_type": "code",
        "colab": {}
      },
      "source": [
        "cnn.add(tf.keras.layers.Dense(units=128, activation='relu'))"
      ],
      "execution_count": 10,
      "outputs": []
    },
    {
      "cell_type": "markdown",
      "metadata": {
        "id": "yTldFvbX28Na",
        "colab_type": "text"
      },
      "source": [
        "### Step 5 - Output Layer"
      ]
    },
    {
      "cell_type": "code",
      "metadata": {
        "id": "1p_Zj1Mc3Ko_",
        "colab_type": "code",
        "colab": {}
      },
      "source": [
        "cnn.add(tf.keras.layers.Dense(units=1, activation='sigmoid'))"
      ],
      "execution_count": 11,
      "outputs": []
    },
    {
      "cell_type": "markdown",
      "metadata": {
        "id": "D6XkI90snSDl",
        "colab_type": "text"
      },
      "source": [
        "## Part 3 - Training the CNN"
      ]
    },
    {
      "cell_type": "markdown",
      "metadata": {
        "id": "vfrFQACEnc6i",
        "colab_type": "text"
      },
      "source": [
        "### Compiling the CNN"
      ]
    },
    {
      "cell_type": "code",
      "metadata": {
        "id": "NALksrNQpUlJ",
        "colab_type": "code",
        "colab": {}
      },
      "source": [
        "cnn.compile(optimizer = 'adam', loss = 'binary_crossentropy', metrics = ['accuracy'])"
      ],
      "execution_count": 12,
      "outputs": []
    },
    {
      "cell_type": "markdown",
      "metadata": {
        "id": "ehS-v3MIpX2h",
        "colab_type": "text"
      },
      "source": [
        "### Training the CNN on the Training set and evaluating it on the Test set"
      ]
    },
    {
      "cell_type": "code",
      "metadata": {
        "id": "XUj1W4PJptta",
        "colab_type": "code",
        "colab": {}
      },
      "source": [
        "cnn.fit(x = training_set, validation_data = test_set, epochs = 25)"
      ],
      "execution_count": 13,
      "outputs": [
        {
          "output_type": "stream",
          "name": "stdout",
          "text": "Epoch 1/25\n250/250 [==============================] - 44s 175ms/step - loss: 0.6950 - accuracy: 0.5416 - val_loss: 0.6495 - val_accuracy: 0.6220\nEpoch 2/25\n250/250 [==============================] - 40s 160ms/step - loss: 0.6395 - accuracy: 0.6345 - val_loss: 0.6062 - val_accuracy: 0.6795\nEpoch 3/25\n250/250 [==============================] - 42s 170ms/step - loss: 0.6105 - accuracy: 0.6766 - val_loss: 0.5787 - val_accuracy: 0.6925\nEpoch 4/25\n250/250 [==============================] - 37s 147ms/step - loss: 0.5815 - accuracy: 0.6963 - val_loss: 0.6011 - val_accuracy: 0.6775\nEpoch 5/25\n250/250 [==============================] - 36s 144ms/step - loss: 0.5526 - accuracy: 0.7136 - val_loss: 0.5291 - val_accuracy: 0.7420\nEpoch 6/25\n250/250 [==============================] - 37s 147ms/step - loss: 0.5266 - accuracy: 0.7358 - val_loss: 0.5347 - val_accuracy: 0.7395\nEpoch 7/25\n250/250 [==============================] - 39s 156ms/step - loss: 0.5148 - accuracy: 0.7476 - val_loss: 0.5130 - val_accuracy: 0.7620\nEpoch 8/25\n250/250 [==============================] - 40s 161ms/step - loss: 0.4906 - accuracy: 0.7635 - val_loss: 0.5123 - val_accuracy: 0.7610\nEpoch 9/25\n250/250 [==============================] - 39s 157ms/step - loss: 0.4774 - accuracy: 0.7745 - val_loss: 0.4913 - val_accuracy: 0.7720\nEpoch 10/25\n250/250 [==============================] - 39s 156ms/step - loss: 0.4656 - accuracy: 0.7800 - val_loss: 0.4830 - val_accuracy: 0.7805\nEpoch 11/25\n250/250 [==============================] - 39s 157ms/step - loss: 0.4545 - accuracy: 0.7834 - val_loss: 0.5037 - val_accuracy: 0.7605\nEpoch 12/25\n250/250 [==============================] - 40s 160ms/step - loss: 0.4371 - accuracy: 0.7989 - val_loss: 0.4681 - val_accuracy: 0.7980\nEpoch 13/25\n250/250 [==============================] - 40s 161ms/step - loss: 0.4261 - accuracy: 0.8000 - val_loss: 0.4926 - val_accuracy: 0.7765\nEpoch 14/25\n250/250 [==============================] - 39s 156ms/step - loss: 0.4158 - accuracy: 0.8065 - val_loss: 0.4847 - val_accuracy: 0.7765\nEpoch 15/25\n250/250 [==============================] - 39s 156ms/step - loss: 0.4027 - accuracy: 0.8163 - val_loss: 0.4721 - val_accuracy: 0.7925\nEpoch 16/25\n250/250 [==============================] - 39s 155ms/step - loss: 0.4037 - accuracy: 0.8121 - val_loss: 0.4818 - val_accuracy: 0.7795\nEpoch 17/25\n250/250 [==============================] - 41s 163ms/step - loss: 0.3831 - accuracy: 0.8291 - val_loss: 0.4536 - val_accuracy: 0.8010\nEpoch 18/25\n250/250 [==============================] - 40s 161ms/step - loss: 0.3634 - accuracy: 0.8404 - val_loss: 0.4592 - val_accuracy: 0.8010\nEpoch 19/25\n250/250 [==============================] - 40s 161ms/step - loss: 0.3589 - accuracy: 0.8424 - val_loss: 0.5106 - val_accuracy: 0.7825\nEpoch 20/25\n250/250 [==============================] - 41s 164ms/step - loss: 0.3593 - accuracy: 0.8349 - val_loss: 0.4908 - val_accuracy: 0.7915\nEpoch 21/25\n250/250 [==============================] - 41s 162ms/step - loss: 0.3531 - accuracy: 0.8453 - val_loss: 0.4533 - val_accuracy: 0.8065\nEpoch 22/25\n250/250 [==============================] - 40s 160ms/step - loss: 0.3340 - accuracy: 0.8522 - val_loss: 0.4668 - val_accuracy: 0.8005\nEpoch 23/25\n250/250 [==============================] - 39s 157ms/step - loss: 0.3217 - accuracy: 0.8554 - val_loss: 0.4797 - val_accuracy: 0.8095\nEpoch 24/25\n250/250 [==============================] - 39s 157ms/step - loss: 0.3194 - accuracy: 0.8610 - val_loss: 0.4948 - val_accuracy: 0.7980\nEpoch 25/25\n250/250 [==============================] - 40s 161ms/step - loss: 0.3203 - accuracy: 0.8609 - val_loss: 0.4672 - val_accuracy: 0.8060\n"
        },
        {
          "output_type": "execute_result",
          "data": {
            "text/plain": "<tensorflow.python.keras.callbacks.History at 0x7fdfd445aac0>"
          },
          "metadata": {},
          "execution_count": 13
        }
      ]
    },
    {
      "cell_type": "markdown",
      "metadata": {
        "id": "U3PZasO0006Z",
        "colab_type": "text"
      },
      "source": [
        "## Part 4 - Making a single prediction"
      ]
    },
    {
      "cell_type": "code",
      "metadata": {
        "id": "gsSiWEJY1BPB",
        "colab_type": "code",
        "colab": {}
      },
      "source": [
        "import numpy as np\n",
        "from keras.preprocessing import image\n",
        "test_image = image.load_img('dataset/single_prediction/cat_or_dog_1.jpg', target_size = (64, 64))\n",
        "test_image = image.img_to_array(test_image)\n",
        "test_image = np.expand_dims(test_image, axis = 0)\n",
        "result = cnn.predict(test_image)\n",
        "training_set.class_indices\n",
        "if result[0][0] == 1:\n",
        "  prediction = 'dog'\n",
        "else:\n",
        "  prediction = 'cat'"
      ],
      "execution_count": 14,
      "outputs": []
    },
    {
      "cell_type": "code",
      "metadata": {
        "id": "ED9KB3I54c1i",
        "colab_type": "code",
        "colab": {}
      },
      "source": [
        "print(prediction)"
      ],
      "execution_count": 15,
      "outputs": [
        {
          "output_type": "stream",
          "name": "stdout",
          "text": "dog\n"
        }
      ]
    },
    {
      "cell_type": "code",
      "execution_count": 16,
      "metadata": {},
      "outputs": [],
      "source": [
        "import numpy as np\n",
        "from keras.preprocessing import image\n",
        "test_image = image.load_img('dataset/single_prediction/cat_or_dog_2.jpg', target_size = (64, 64))\n",
        "test_image = image.img_to_array(test_image)\n",
        "test_image = np.expand_dims(test_image, axis = 0)\n",
        "result = cnn.predict(test_image)\n",
        "training_set.class_indices\n",
        "if result[0][0] == 1:\n",
        "  prediction = 'dog'\n",
        "else:\n",
        "  prediction = 'cat'"
      ]
    },
    {
      "cell_type": "code",
      "execution_count": 17,
      "metadata": {},
      "outputs": [
        {
          "output_type": "stream",
          "name": "stdout",
          "text": "cat\n"
        }
      ],
      "source": [
        "print(prediction)"
      ]
    }
  ],
  "metadata": {
    "colab": {
      "name": "convolutional_neural_network.ipynb",
      "provenance": [],
      "collapsed_sections": [],
      "toc_visible": true
    },
    "kernelspec": {
      "name": "python37564bit63a2fd3ce8b246898577f4aa08372c76",
      "display_name": "Python 3.7.5 64-bit"
    }
  },
  "nbformat": 4,
  "nbformat_minor": 0
}